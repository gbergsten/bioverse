{
 "cells": [
  {
   "cell_type": "markdown",
   "metadata": {},
   "source": [
    "# Tutorial: Generating planetary systems\n",
    "\n",
    "In this tutorial, we will review how to use the Generator class to generate a sample of planetary systems, using the updated small planet occurrence rates of Bergsten et al. (2022).\n",
    "\n",
    "## Setup\n",
    "\n",
    "Let's start by importing the necessary module from Bioverse."
   ]
  },
  {
   "cell_type": "code",
   "execution_count": 1,
   "metadata": {},
   "outputs": [],
   "source": [
    "# Import numpy\n",
    "import numpy as np\n",
    "\n",
    "# Import the Generator class\n",
    "from bioverse.generator import Generator\n",
    "from bioverse.constants import ROOT_DIR\n",
    "\n",
    "# Import pyplot (for making plots later) and adjust some of its settings\n",
    "from matplotlib import pyplot as plt\n",
    "%matplotlib inline\n",
    "plt.rcParams['font.size'] = 20."
   ]
  },
  {
   "cell_type": "markdown",
   "metadata": {},
   "source": [
    "## Loading the Generator\n",
    "\n",
    "The first step in using Bioverse is to generate a simulated sample of planetary systems. This is accomplished with a Generator object, of which two come pre-installed. Let's open one of them and examine its contents."
   ]
  },
  {
   "cell_type": "code",
   "execution_count": 2,
   "metadata": {},
   "outputs": [
    {
     "name": "stdout",
     "output_type": "stream",
     "text": [
      "Created a new Generator\n"
     ]
    }
   ],
   "source": [
    "# reset the generator every time while I'm testing code\n",
    "import bioverse\n",
    "bioverse.generator.reset_transit_generator()"
   ]
  },
  {
   "cell_type": "code",
   "execution_count": 3,
   "metadata": {},
   "outputs": [
    {
     "data": {
      "text/plain": [
       "Generator with 12 steps:\n",
       " 0: Function 'create_stars_Gaia' with 7 keyword arguments.\n",
       " 1: Function 'create_planets_bergsten' with 5 keyword arguments.\n",
       " 2: Function 'assign_orbital_elements' with 2 keyword arguments.\n",
       " 3: Function 'geometric_albedo' with 3 keyword arguments.\n",
       " 4: Function 'impact_parameter' with 1 keyword arguments.\n",
       " 5: Function 'assign_mass' with no keyword arguments.\n",
       " 6: Function 'compute_habitable_zone_boundaries' with no keyword arguments.\n",
       " 7: Function 'compute_transit_params' with no keyword arguments.\n",
       " 8: Function 'classify_planets' with no keyword arguments.\n",
       " 9: Function 'scale_height' with no keyword arguments.\n",
       "10: Function 'Example1_water' with 4 keyword arguments.\n",
       "11: Function 'Example2_oxygen' with 3 keyword arguments."
      ]
     },
     "execution_count": 3,
     "metadata": {},
     "output_type": "execute_result"
    }
   ],
   "source": [
    "# Open the transit mode generator and display its properties\n",
    "generator = Generator('transit')\n",
    "generator"
   ]
  },
  {
   "cell_type": "markdown",
   "metadata": {},
   "source": [
    "### Optional Step: Replacing the occurrence rates of Bergsten et al. (2022) with those from SAG13.\n",
    "The above Generator features the updated function 'create_planets_bergsten', but we can replace that with some legacy occurrence rates. To replace a function in the program sequence, call generator.replace_step()."
   ]
  },
  {
   "cell_type": "code",
   "execution_count": 4,
   "metadata": {
    "scrolled": false
   },
   "outputs": [],
   "source": [
    "# generator.replace_step(new_function='create_planets_SAG13', idx=1)\n",
    "# # View the new create_planets function\n",
    "# generator.steps[1]"
   ]
  },
  {
   "cell_type": "markdown",
   "metadata": {},
   "source": [
    "### Other Modifications to the Generator"
   ]
  },
  {
   "cell_type": "markdown",
   "metadata": {},
   "source": [
    "Here we see a short description of the planet generation step as well as its keyword arguments. The aforementioned occurrence rates have are only defined for planets with $1.0 \\leq R_p \\leq 3.5\\,R_\\oplus$. Extrapolations to smaller radii are possible, but extrapolations to larger radii are not recommended.\n",
    "\n",
    "While the occurrence rates are also formally defined for $2 \\leq P_\\mathrm{orb} \\leq 100\\,$days, extrapolations to longer periods are feasible.\n",
    "\n",
    "Additionally, the above occurrence rates incorporate stellar mass dependence, but are only defined for $0.56 \\leq M_* \\leq 1.63\\,M_\\odot$. We need to update the stellar generator's mass ranges to match this requirement. $\\textbf{Intentionally, attempting to use stellar masses beyond this range will cause fatal errors!}$.\n",
    "\n",
    "$\\textbf{Programmer's Note: The mass range from 'create_stars_Gaia' is quite different from that of Bergsten et al.! We're working on expanding the mass range to smaller stars!}$"
   ]
  },
  {
   "cell_type": "code",
   "execution_count": 5,
   "metadata": {},
   "outputs": [],
   "source": [
    "# Update the stellar mass ranges to be within the defined range\n",
    "generator.set_arg('M_st_min', 0.56)\n",
    "generator.set_arg('M_st_max', 1.63)\n",
    "\n",
    "# Extend the maximum period to 10 years if interested in larger separations.\n",
    "generator.set_arg('P_max', 10*365)"
   ]
  },
  {
   "cell_type": "markdown",
   "metadata": {},
   "source": [
    "Some arguments are shared by multiple functions - for example, the `transit_mode` argument tells a couple of functions that only transiting planets are being simulated. \n",
    "\n",
    "Initializing the 'transit' generator causes transit_mode=True, but the new create_planets function is (for now) only defined when transit_mode=False."
   ]
  },
  {
   "cell_type": "code",
   "execution_count": 6,
   "metadata": {},
   "outputs": [
    {
     "name": "stdout",
     "output_type": "stream",
     "text": [
      "\n",
      "The current value of transit_mode is False\n"
     ]
    }
   ],
   "source": [
    "# Set transit_mode = False for all functions that use it\n",
    "generator.set_arg('transit_mode', False)\n",
    "\n",
    "# We can also check on an argument's value as follows:\n",
    "val = str(generator.get_arg('transit_mode'))\n",
    "print(\"\\nThe current value of transit_mode is {:s}\".format(val))"
   ]
  },
  {
   "cell_type": "markdown",
   "metadata": {},
   "source": [
    "## Running the Generator\n",
    "\n",
    "Now, let's use this Generator object to produce an ensemble of transiting planets within 100 parsecs."
   ]
  },
  {
   "cell_type": "code",
   "execution_count": 7,
   "metadata": {},
   "outputs": [
    {
     "name": "stdout",
     "output_type": "stream",
     "text": [
      "Generated a sample of 42447 planets including 1150 exo-Earth candidates.\n"
     ]
    }
   ],
   "source": [
    "sample = generator.generate(d_max=100)\n",
    "print(\"Generated a sample of {:d} planets including {:d} exo-Earth candidates.\".format(len(sample), sample['EEC'].sum()))"
   ]
  },
  {
   "cell_type": "markdown",
   "metadata": {},
   "source": [
    "Let's plot the period and radius distribution of this planet sample:"
   ]
  },
  {
   "cell_type": "code",
   "execution_count": 8,
   "metadata": {},
   "outputs": [
    {
     "data": {
      "image/png": "[encoded data removed]",
      "text/plain": [
       "<Figure size 1152x576 with 2 Axes>"
      ]
     },
     "metadata": {
      "needs_background": "light"
     },
     "output_type": "display_data"
    }
   ],
   "source": [
    "fig, ax = plt.subplots(ncols=2, figsize=(16,8))\n",
    "\n",
    "# Period histogram\n",
    "P = sample['P']\n",
    "bins = np.logspace(0, 4, 100)\n",
    "ax[0].hist(P, bins=bins)\n",
    "ax[0].set_xscale('log')\n",
    "ax[0].set_yscale('log')\n",
    "ax[0].set_xlabel('Period (d)', fontsize=24)\n",
    "ax[0].set_ylabel('Number of planets', fontsize=24)\n",
    "\n",
    "# Radius histogram\n",
    "R = sample['R']\n",
    "bins = np.logspace(-0.5,1,100)\n",
    "ax[1].hist(R, bins=bins)\n",
    "ax[1].set_xscale('log')\n",
    "ax[1].set_yscale('log')\n",
    "ax[1].set_xlabel('Radius ($R_\\oplus$)', fontsize=24)\n",
    "ax[1].set_ylabel('Number of planets', fontsize=24)\n",
    "\n",
    "plt.subplots_adjust(wspace=0.3)"
   ]
  },
  {
   "cell_type": "markdown",
   "metadata": {},
   "source": [
    "## Processing Outputs from the Generator"
   ]
  },
  {
   "cell_type": "markdown",
   "metadata": {},
   "source": [
    "What does the distribution of stellar masses look like?"
   ]
  },
  {
   "cell_type": "code",
   "execution_count": 9,
   "metadata": {},
   "outputs": [
    {
     "data": {
      "text/plain": [
       "Text(0.5, 0, 'Stellar Mass [M$_\\\\odot$]')"
      ]
     },
     "execution_count": 9,
     "metadata": {},
     "output_type": "execute_result"
    },
    {
     "data": {
      "image/png": "[encoded data removed]",
      "text/plain": [
       "<Figure size 432x288 with 1 Axes>"
      ]
     },
     "metadata": {
      "needs_background": "light"
     },
     "output_type": "display_data"
    }
   ],
   "source": [
    "plt.hist(sample['M_st'])\n",
    "plt.xlabel('Stellar Mass [M$_\\odot$]')"
   ]
  },
  {
   "cell_type": "markdown",
   "metadata": {},
   "source": [
    "What do the fractional occurrence curves look like?"
   ]
  },
  {
   "cell_type": "code",
   "execution_count": 10,
   "metadata": {},
   "outputs": [
    {
     "data": {
      "text/plain": [
       "Text(0, 0.5, 'Fractional Occurrence')"
      ]
     },
     "execution_count": 10,
     "metadata": {},
     "output_type": "execute_result"
    },
    {
     "data": {
      "image/png": "[encoded data removed]",
      "text/plain": [
       "<Figure size 432x288 with 1 Axes>"
      ]
     },
     "metadata": {
      "needs_background": "light"
     },
     "output_type": "display_data"
    }
   ],
   "source": [
    "Rsplit = 2*(np.mean(sample['M_st'])/1)**(1/4)\n",
    "sE = sample[(sample['R'] >= 1.0) & (sample['R'] < Rsplit)]\n",
    "sN = sample[(sample['R'] >= Rsplit) & (sample['R'] < 3.5)]\n",
    "pbin = np.linspace(2,100)\n",
    "for i,p in enumerate(pbin):\n",
    "    if i>0:\n",
    "        this_sE = sE[(sE['P'] >= pbin[i-1]) & (sE['P'] < p)]\n",
    "        this_sN = sN[(sN['P'] >= pbin[i-1]) & (sN['P'] < p)]\n",
    "        this_small = sample[(sample['P'] >= pbin[i-1]) & (sample['P'] < p)]\n",
    "        plt.scatter(p,len(this_sE)/len(this_small), c='g')\n",
    "        plt.scatter(p,len(this_sN)/len(this_small), c='b')\n",
    "plt.xlabel('Orbital Period [days]')\n",
    "plt.ylabel('Fractional Occurrence')"
   ]
  },
  {
   "cell_type": "code",
   "execution_count": null,
   "metadata": {},
   "outputs": [],
   "source": []
  }
 ],
 "metadata": {
  "interpreter": {
   "hash": "3dd1bae58f74bf20d8da1452b02c9f82b0404678f1d0078fc73ebd3bf8b9b030"
  },
  "kernelspec": {
   "display_name": "Python 3 (ipykernel)",
   "language": "python",
   "name": "python3"
  },
  "language_info": {
   "codemirror_mode": {
    "name": "ipython",
    "version": 3
   },
   "file_extension": ".py",
   "mimetype": "text/x-python",
   "name": "python",
   "nbconvert_exporter": "python",
   "pygments_lexer": "ipython3",
   "version": "3.7.13"
  }
 },
 "nbformat": 4,
 "nbformat_minor": 2
}
